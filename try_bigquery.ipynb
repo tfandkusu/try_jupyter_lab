{
 "cells": [
  {
   "cell_type": "markdown",
   "id": "e88f4e2a-3d5f-41bd-90ca-3d9381286689",
   "metadata": {},
   "source": [
    "# 初期設定群"
   ]
  },
  {
   "cell_type": "code",
   "execution_count": 5,
   "id": "aa835abb-2e2c-4197-bfd8-4ef7f4359ea2",
   "metadata": {},
   "outputs": [],
   "source": [
    "import pandas as pd\n",
    "import pandas_gbq as bq"
   ]
  },
  {
   "cell_type": "code",
   "execution_count": 6,
   "id": "fec8a6eb-714e-4808-a91d-d860eb25c275",
   "metadata": {},
   "outputs": [
    {
     "data": {
      "text/plain": [
       "'Hello World'"
      ]
     },
     "execution_count": 6,
     "metadata": {},
     "output_type": "execute_result"
    }
   ],
   "source": [
    "\"Hello World\""
   ]
  },
  {
   "cell_type": "code",
   "execution_count": 7,
   "id": "9f0a960b-c369-40a2-8d81-0779a4b3eaa8",
   "metadata": {},
   "outputs": [],
   "source": [
    "q = \"\"\"\n",
    "SELECT\n",
    "FORMAT('%04d/%02d', EXTRACT(year FROM date),EXTRACT(month FROM date)) as month,\n",
    "COUNT(unique_key) AS count\n",
    "FROM `bigquery-public-data.chicago_crime.crime`\n",
    "GROUP BY month\n",
    "ORDER BY month ASC\n",
    "\"\"\""
   ]
  },
  {
   "cell_type": "code",
   "execution_count": 8,
   "id": "c45d762f-b1bc-4e91-bc9e-27165b9263ff",
   "metadata": {},
   "outputs": [
    {
     "name": "stdout",
     "output_type": "stream",
     "text": [
      "Downloading: 100%|\u001b[32m██████████████████████████████████████████████████████████████████████████████████████████████████████████████████████\u001b[0m|\u001b[0m\n"
     ]
    },
    {
     "data": {
      "text/html": [
       "<div>\n",
       "<style scoped>\n",
       "    .dataframe tbody tr th:only-of-type {\n",
       "        vertical-align: middle;\n",
       "    }\n",
       "\n",
       "    .dataframe tbody tr th {\n",
       "        vertical-align: top;\n",
       "    }\n",
       "\n",
       "    .dataframe thead th {\n",
       "        text-align: right;\n",
       "    }\n",
       "</style>\n",
       "<table border=\"1\" class=\"dataframe\">\n",
       "  <thead>\n",
       "    <tr style=\"text-align: right;\">\n",
       "      <th></th>\n",
       "      <th>month</th>\n",
       "      <th>count</th>\n",
       "    </tr>\n",
       "  </thead>\n",
       "  <tbody>\n",
       "    <tr>\n",
       "      <th>0</th>\n",
       "      <td>2001/01</td>\n",
       "      <td>38121</td>\n",
       "    </tr>\n",
       "    <tr>\n",
       "      <th>1</th>\n",
       "      <td>2001/02</td>\n",
       "      <td>33789</td>\n",
       "    </tr>\n",
       "    <tr>\n",
       "      <th>2</th>\n",
       "      <td>2001/03</td>\n",
       "      <td>40570</td>\n",
       "    </tr>\n",
       "    <tr>\n",
       "      <th>3</th>\n",
       "      <td>2001/04</td>\n",
       "      <td>40091</td>\n",
       "    </tr>\n",
       "    <tr>\n",
       "      <th>4</th>\n",
       "      <td>2001/05</td>\n",
       "      <td>41839</td>\n",
       "    </tr>\n",
       "    <tr>\n",
       "      <th>...</th>\n",
       "      <td>...</td>\n",
       "      <td>...</td>\n",
       "    </tr>\n",
       "    <tr>\n",
       "      <th>274</th>\n",
       "      <td>2023/11</td>\n",
       "      <td>21202</td>\n",
       "    </tr>\n",
       "    <tr>\n",
       "      <th>275</th>\n",
       "      <td>2023/12</td>\n",
       "      <td>21067</td>\n",
       "    </tr>\n",
       "    <tr>\n",
       "      <th>276</th>\n",
       "      <td>2024/01</td>\n",
       "      <td>19142</td>\n",
       "    </tr>\n",
       "    <tr>\n",
       "      <th>277</th>\n",
       "      <td>2024/02</td>\n",
       "      <td>19262</td>\n",
       "    </tr>\n",
       "    <tr>\n",
       "      <th>278</th>\n",
       "      <td>2024/03</td>\n",
       "      <td>4520</td>\n",
       "    </tr>\n",
       "  </tbody>\n",
       "</table>\n",
       "<p>279 rows × 2 columns</p>\n",
       "</div>"
      ],
      "text/plain": [
       "       month  count\n",
       "0    2001/01  38121\n",
       "1    2001/02  33789\n",
       "2    2001/03  40570\n",
       "3    2001/04  40091\n",
       "4    2001/05  41839\n",
       "..       ...    ...\n",
       "274  2023/11  21202\n",
       "275  2023/12  21067\n",
       "276  2024/01  19142\n",
       "277  2024/02  19262\n",
       "278  2024/03   4520\n",
       "\n",
       "[279 rows x 2 columns]"
      ]
     },
     "execution_count": 8,
     "metadata": {},
     "output_type": "execute_result"
    }
   ],
   "source": [
    "df = bq.read_gbq(q, project_id=\"tfandkusu\")\n",
    "df"
   ]
  },
  {
   "cell_type": "code",
   "execution_count": null,
   "id": "9f68ce8a-9817-4404-81e2-7ab04d5c3fd1",
   "metadata": {},
   "outputs": [],
   "source": []
  }
 ],
 "metadata": {
  "kernelspec": {
   "display_name": "Python 3 (ipykernel)",
   "language": "python",
   "name": "python3"
  },
  "language_info": {
   "codemirror_mode": {
    "name": "ipython",
    "version": 3
   },
   "file_extension": ".py",
   "mimetype": "text/x-python",
   "name": "python",
   "nbconvert_exporter": "python",
   "pygments_lexer": "ipython3",
   "version": "3.12.2"
  }
 },
 "nbformat": 4,
 "nbformat_minor": 5
}
