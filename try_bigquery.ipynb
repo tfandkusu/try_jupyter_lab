{
 "cells": [
  {
   "cell_type": "markdown",
   "id": "e88f4e2a-3d5f-41bd-90ca-3d9381286689",
   "metadata": {},
   "source": [
    "# マークダウン\n",
    "\n",
    "文章を追加する"
   ]
  },
  {
   "cell_type": "code",
   "execution_count": 1,
   "id": "fec8a6eb-714e-4808-a91d-d860eb25c275",
   "metadata": {},
   "outputs": [
    {
     "data": {
      "text/plain": [
       "'Hello World'"
      ]
     },
     "execution_count": 1,
     "metadata": {},
     "output_type": "execute_result"
    }
   ],
   "source": [
    "\"Hello World\""
   ]
  },
  {
   "cell_type": "code",
   "execution_count": null,
   "id": "9f0a960b-c369-40a2-8d81-0779a4b3eaa8",
   "metadata": {},
   "outputs": [],
   "source": []
  }
 ],
 "metadata": {
  "kernelspec": {
   "display_name": "Python 3 (ipykernel)",
   "language": "python",
   "name": "python3"
  },
  "language_info": {
   "codemirror_mode": {
    "name": "ipython",
    "version": 3
   },
   "file_extension": ".py",
   "mimetype": "text/x-python",
   "name": "python",
   "nbconvert_exporter": "python",
   "pygments_lexer": "ipython3",
   "version": "3.12.2"
  }
 },
 "nbformat": 4,
 "nbformat_minor": 5
}
